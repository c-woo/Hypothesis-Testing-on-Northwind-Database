{
 "cells": [
  {
   "cell_type": "code",
   "execution_count": 1,
   "metadata": {},
   "outputs": [],
   "source": [
    "import sqlite3\n",
    "import pandas as pd\n",
    "import numpy as np\n",
    "import matplotlib.pyplot as plt\n",
    "from scipy import stats\n",
    "import statsmodels.api as sm\n",
    "from statsmodels.formula.api import ols\n",
    "import seaborn as sns\n",
    "from statsmodels.stats.power import TTestIndPower, TTestPower\n",
    "\n",
    "%matplotlib inline"
   ]
  },
  {
   "cell_type": "code",
   "execution_count": 2,
   "metadata": {},
   "outputs": [],
   "source": [
    "conn = sqlite3.connect('Northwind_small.sqlite')\n",
    "cur = conn.cursor()"
   ]
  },
  {
   "cell_type": "code",
   "execution_count": 29,
   "metadata": {
    "scrolled": true
   },
   "outputs": [
    {
     "data": {
      "text/html": [
       "<div>\n",
       "<style scoped>\n",
       "    .dataframe tbody tr th:only-of-type {\n",
       "        vertical-align: middle;\n",
       "    }\n",
       "\n",
       "    .dataframe tbody tr th {\n",
       "        vertical-align: top;\n",
       "    }\n",
       "\n",
       "    .dataframe thead th {\n",
       "        text-align: right;\n",
       "    }\n",
       "</style>\n",
       "<table border=\"1\" class=\"dataframe\">\n",
       "  <thead>\n",
       "    <tr style=\"text-align: right;\">\n",
       "      <th></th>\n",
       "      <th>Quantity</th>\n",
       "      <th>Discount</th>\n",
       "    </tr>\n",
       "  </thead>\n",
       "  <tbody>\n",
       "    <tr>\n",
       "      <th>0</th>\n",
       "      <td>12</td>\n",
       "      <td>0.0</td>\n",
       "    </tr>\n",
       "    <tr>\n",
       "      <th>1</th>\n",
       "      <td>10</td>\n",
       "      <td>0.0</td>\n",
       "    </tr>\n",
       "    <tr>\n",
       "      <th>2</th>\n",
       "      <td>5</td>\n",
       "      <td>0.0</td>\n",
       "    </tr>\n",
       "    <tr>\n",
       "      <th>3</th>\n",
       "      <td>9</td>\n",
       "      <td>0.0</td>\n",
       "    </tr>\n",
       "    <tr>\n",
       "      <th>4</th>\n",
       "      <td>40</td>\n",
       "      <td>0.0</td>\n",
       "    </tr>\n",
       "  </tbody>\n",
       "</table>\n",
       "</div>"
      ],
      "text/plain": [
       "   Quantity  Discount\n",
       "0        12       0.0\n",
       "1        10       0.0\n",
       "2         5       0.0\n",
       "3         9       0.0\n",
       "4        40       0.0"
      ]
     },
     "execution_count": 29,
     "metadata": {},
     "output_type": "execute_result"
    }
   ],
   "source": [
    "cur.execute(\"\"\"SELECT Quantity, Discount\n",
    "               FROM OrderDetail;\"\"\")\n",
    "df1 = pd.DataFrame(cur.fetchall())\n",
    "df1.columns = [x[0] for x in cur.description]\n",
    "df1.head()"
   ]
  },
  {
   "cell_type": "markdown",
   "metadata": {},
   "source": [
    "<h2>Does discount have a statistically significant effect on the quantity of a product in an order? If so, at what level(s) of discount?</h2>\n",
    "\n",
    "<b>Null hypothesis:</b> Mean difference in quantities between discounts and no discount is 0 <br>\n",
    "<b>Alternative hypothesis:</b> Mean difference in quantities between discounts and no discount is greater than 0"
   ]
  },
  {
   "cell_type": "code",
   "execution_count": 4,
   "metadata": {
    "scrolled": true
   },
   "outputs": [
    {
     "data": {
      "text/plain": [
       "array([0.  , 0.15, 0.05, 0.2 , 0.25, 0.1 , 0.02, 0.03, 0.04, 0.06, 0.01])"
      ]
     },
     "execution_count": 4,
     "metadata": {},
     "output_type": "execute_result"
    }
   ],
   "source": [
    "## check all discount values\n",
    "\n",
    "df1['Discount'].unique()"
   ]
  },
  {
   "cell_type": "code",
   "execution_count": 5,
   "metadata": {
    "scrolled": true
   },
   "outputs": [
    {
     "data": {
      "text/html": [
       "<div>\n",
       "<style scoped>\n",
       "    .dataframe tbody tr th:only-of-type {\n",
       "        vertical-align: middle;\n",
       "    }\n",
       "\n",
       "    .dataframe tbody tr th {\n",
       "        vertical-align: top;\n",
       "    }\n",
       "\n",
       "    .dataframe thead th {\n",
       "        text-align: right;\n",
       "    }\n",
       "</style>\n",
       "<table border=\"1\" class=\"dataframe\">\n",
       "  <thead>\n",
       "    <tr style=\"text-align: right;\">\n",
       "      <th></th>\n",
       "      <th>UnitPrice</th>\n",
       "      <th>Quantity</th>\n",
       "      <th>Discount</th>\n",
       "    </tr>\n",
       "  </thead>\n",
       "  <tbody>\n",
       "    <tr>\n",
       "      <th>0</th>\n",
       "      <td>14.0</td>\n",
       "      <td>12</td>\n",
       "      <td>0.0</td>\n",
       "    </tr>\n",
       "    <tr>\n",
       "      <th>1</th>\n",
       "      <td>9.8</td>\n",
       "      <td>10</td>\n",
       "      <td>0.0</td>\n",
       "    </tr>\n",
       "    <tr>\n",
       "      <th>2</th>\n",
       "      <td>34.8</td>\n",
       "      <td>5</td>\n",
       "      <td>0.0</td>\n",
       "    </tr>\n",
       "    <tr>\n",
       "      <th>3</th>\n",
       "      <td>18.6</td>\n",
       "      <td>9</td>\n",
       "      <td>0.0</td>\n",
       "    </tr>\n",
       "    <tr>\n",
       "      <th>4</th>\n",
       "      <td>42.4</td>\n",
       "      <td>40</td>\n",
       "      <td>0.0</td>\n",
       "    </tr>\n",
       "  </tbody>\n",
       "</table>\n",
       "</div>"
      ],
      "text/plain": [
       "   UnitPrice  Quantity  Discount\n",
       "0       14.0        12       0.0\n",
       "1        9.8        10       0.0\n",
       "2       34.8         5       0.0\n",
       "3       18.6         9       0.0\n",
       "4       42.4        40       0.0"
      ]
     },
     "execution_count": 5,
     "metadata": {},
     "output_type": "execute_result"
    }
   ],
   "source": [
    "## creating a new df containing all product quantities with 0 discount\n",
    "\n",
    "d_0 = df1[df1['Discount'] == 0]\n",
    "d_0.head()"
   ]
  },
  {
   "cell_type": "code",
   "execution_count": 6,
   "metadata": {},
   "outputs": [
    {
     "data": {
      "image/png": "[encoded data removed]",
      "text/plain": [
       "<Figure size 432x288 with 1 Axes>"
      ]
     },
     "metadata": {
      "needs_background": "light"
     },
     "output_type": "display_data"
    }
   ],
   "source": [
    "plt.hist(d_0.Quantity);"
   ]
  },
  {
   "cell_type": "code",
   "execution_count": 7,
   "metadata": {},
   "outputs": [
    {
     "data": {
      "image/png": "[encoded data removed]",
      "text/plain": [
       "<Figure size 432x288 with 1 Axes>"
      ]
     },
     "metadata": {
      "needs_background": "light"
     },
     "output_type": "display_data"
    }
   ],
   "source": [
    "## using central limit theorem to create a normal distribution\n",
    "\n",
    "samp_0 = []\n",
    "for i in range(100):\n",
    "    sample = d_0.sample(n=50)\n",
    "    samp_0.append(sample.Quantity.mean())\n",
    "plt.hist(samp_0, bins=50);"
   ]
  },
  {
   "cell_type": "code",
   "execution_count": 8,
   "metadata": {},
   "outputs": [
    {
     "data": {
      "text/plain": [
       "((21.715261958997722, 17.500845477669788), (21.5802, 2.1703741520760884))"
      ]
     },
     "execution_count": 8,
     "metadata": {},
     "output_type": "execute_result"
    }
   ],
   "source": [
    "(d_0.Quantity.mean(), np.std(d_0.Quantity)), (np.mean(samp_0), np.std(samp_0))"
   ]
  },
  {
   "cell_type": "code",
   "execution_count": 9,
   "metadata": {},
   "outputs": [
    {
     "data": {
      "text/html": [
       "<div>\n",
       "<style scoped>\n",
       "    .dataframe tbody tr th:only-of-type {\n",
       "        vertical-align: middle;\n",
       "    }\n",
       "\n",
       "    .dataframe tbody tr th {\n",
       "        vertical-align: top;\n",
       "    }\n",
       "\n",
       "    .dataframe thead th {\n",
       "        text-align: right;\n",
       "    }\n",
       "</style>\n",
       "<table border=\"1\" class=\"dataframe\">\n",
       "  <thead>\n",
       "    <tr style=\"text-align: right;\">\n",
       "      <th></th>\n",
       "      <th>UnitPrice</th>\n",
       "      <th>Quantity</th>\n",
       "      <th>Discount</th>\n",
       "    </tr>\n",
       "  </thead>\n",
       "  <tbody>\n",
       "    <tr>\n",
       "      <th>6</th>\n",
       "      <td>42.4</td>\n",
       "      <td>35</td>\n",
       "      <td>0.15</td>\n",
       "    </tr>\n",
       "    <tr>\n",
       "      <th>7</th>\n",
       "      <td>16.8</td>\n",
       "      <td>15</td>\n",
       "      <td>0.15</td>\n",
       "    </tr>\n",
       "    <tr>\n",
       "      <th>8</th>\n",
       "      <td>16.8</td>\n",
       "      <td>6</td>\n",
       "      <td>0.05</td>\n",
       "    </tr>\n",
       "    <tr>\n",
       "      <th>9</th>\n",
       "      <td>15.6</td>\n",
       "      <td>15</td>\n",
       "      <td>0.05</td>\n",
       "    </tr>\n",
       "    <tr>\n",
       "      <th>11</th>\n",
       "      <td>64.8</td>\n",
       "      <td>40</td>\n",
       "      <td>0.05</td>\n",
       "    </tr>\n",
       "  </tbody>\n",
       "</table>\n",
       "</div>"
      ],
      "text/plain": [
       "    UnitPrice  Quantity  Discount\n",
       "6        42.4        35      0.15\n",
       "7        16.8        15      0.15\n",
       "8        16.8         6      0.05\n",
       "9        15.6        15      0.05\n",
       "11       64.8        40      0.05"
      ]
     },
     "execution_count": 9,
     "metadata": {},
     "output_type": "execute_result"
    }
   ],
   "source": [
    "## creating a new df containing all product quantities where there is a discount\n",
    "\n",
    "disc = df1[df1['Discount'] != 0]\n",
    "disc.head()"
   ]
  },
  {
   "cell_type": "code",
   "execution_count": 10,
   "metadata": {},
   "outputs": [
    {
     "data": {
      "image/png": "[encoded data removed]",
      "text/plain": [
       "<Figure size 432x288 with 1 Axes>"
      ]
     },
     "metadata": {
      "needs_background": "light"
     },
     "output_type": "display_data"
    }
   ],
   "source": [
    "plt.hist(disc.Quantity);"
   ]
  },
  {
   "cell_type": "code",
   "execution_count": 11,
   "metadata": {},
   "outputs": [
    {
     "data": {
      "image/png": "[encoded data removed]",
      "text/plain": [
       "<Figure size 432x288 with 1 Axes>"
      ]
     },
     "metadata": {
      "needs_background": "light"
     },
     "output_type": "display_data"
    }
   ],
   "source": [
    "## using CLT to create a normal distribution\n",
    "\n",
    "samp_disc = []\n",
    "for i in range(100):\n",
    "    sample = disc.sample(n=50)\n",
    "    samp_disc.append(sample.Quantity.mean())\n",
    "\n",
    "plt.hist(samp_disc, bins=50);"
   ]
  },
  {
   "cell_type": "code",
   "execution_count": 12,
   "metadata": {},
   "outputs": [
    {
     "data": {
      "text/plain": [
       "(27.098999999999997, 2.8688177007262072)"
      ]
     },
     "execution_count": 12,
     "metadata": {},
     "output_type": "execute_result"
    }
   ],
   "source": [
    "np.mean(samp_disc), np.std(samp_disc)"
   ]
  },
  {
   "cell_type": "code",
   "execution_count": 13,
   "metadata": {},
   "outputs": [
    {
     "data": {
      "image/png": "[encoded data removed]",
      "text/plain": [
       "<Figure size 720x576 with 1 Axes>"
      ]
     },
     "metadata": {
      "needs_background": "light"
     },
     "output_type": "display_data"
    }
   ],
   "source": [
    "## plotting the two CLT distributions side by side\n",
    "\n",
    "plt.figure(figsize=(10, 8))\n",
    "sns.distplot(samp_0, label='No Discount', kde=False);\n",
    "sns.distplot(samp_disc, label='Discount', kde=False);\n",
    "plt.legend();\n",
    "plt.xlabel('Quantity')\n",
    "plt.ylabel('Count')\n",
    "plt.title('Average Quantity of a Product in an Order');"
   ]
  },
  {
   "cell_type": "code",
   "execution_count": 14,
   "metadata": {},
   "outputs": [
    {
     "data": {
      "text/plain": [
       "Ttest_indResult(statistic=15.264563594694762, pvalue=2.7587108816472365e-35)"
      ]
     },
     "execution_count": 14,
     "metadata": {},
     "output_type": "execute_result"
    }
   ],
   "source": [
    "## run a two sample t test for discounts and no discounts\n",
    "stats.ttest_ind(samp_disc, samp_0)"
   ]
  },
  {
   "cell_type": "markdown",
   "metadata": {},
   "source": [
    "With a p value much lower than 0.05, we can reject the null hypothesis and accept the alternative hypothesis that discount has a statistically significant effect on the quantity of product ordered.\n",
    "\n",
    "Now we will try to find out which discount amounts have a statistically significant effect on the quantity of a product in an order."
   ]
  },
  {
   "cell_type": "code",
   "execution_count": 28,
   "metadata": {},
   "outputs": [
    {
     "data": {
      "text/plain": [
       "0.05    185\n",
       "0.10    173\n",
       "0.20    161\n",
       "0.15    157\n",
       "0.25    154\n",
       "0.03      3\n",
       "0.02      2\n",
       "0.04      1\n",
       "0.06      1\n",
       "0.01      1\n",
       "Name: Discount, dtype: int64"
      ]
     },
     "execution_count": 28,
     "metadata": {},
     "output_type": "execute_result"
    }
   ],
   "source": [
    "## remove discount levels 0.01, 0.02, 0.03, 0.04, 0.06 because they do not have enough observations\n",
    "\n",
    "disc.Discount.value_counts()"
   ]
  },
  {
   "cell_type": "code",
   "execution_count": 16,
   "metadata": {},
   "outputs": [],
   "source": [
    "## create new dataframes for different discount amounts. \n",
    "## I will be creating one for discount levels 0.05, 0.1, 0.15, 0.2, 0.25\n",
    "\n",
    "d_05 = disc[disc['Discount'] == 0.05]\n",
    "d_1 = disc[disc['Discount'] == 0.1]\n",
    "d_15 = disc[disc['Discount'] == 0.15]\n",
    "d_2 = disc[disc['Discount'] == 0.2]\n",
    "d_25 = disc[disc['Discount'] == 0.25]"
   ]
  },
  {
   "cell_type": "code",
   "execution_count": 17,
   "metadata": {
    "scrolled": true
   },
   "outputs": [],
   "source": [
    "all_q = []\n",
    "\n",
    "for x in [d_0, d_05, d_1, d_15, d_2, d_25]:\n",
    "    all_q += list(x.Quantity)\n",
    "\n",
    "disc_levels = (['0']*len(d_0)) + (['05']*len(d_05)) + (['10']*len(d_1)) + (['15']*len(d_15)) + (['20']*len(d_2)) + (['25']*len(d_25))\n",
    "disc_df = pd.DataFrame({'discount': disc_levels, 'quantity': all_q})"
   ]
  },
  {
   "cell_type": "code",
   "execution_count": 26,
   "metadata": {},
   "outputs": [
    {
     "data": {
      "text/html": [
       "<div>\n",
       "<style scoped>\n",
       "    .dataframe tbody tr th:only-of-type {\n",
       "        vertical-align: middle;\n",
       "    }\n",
       "\n",
       "    .dataframe tbody tr th {\n",
       "        vertical-align: top;\n",
       "    }\n",
       "\n",
       "    .dataframe thead th {\n",
       "        text-align: right;\n",
       "    }\n",
       "</style>\n",
       "<table border=\"1\" class=\"dataframe\">\n",
       "  <thead>\n",
       "    <tr style=\"text-align: right;\">\n",
       "      <th></th>\n",
       "      <th>quantity</th>\n",
       "    </tr>\n",
       "    <tr>\n",
       "      <th>discount</th>\n",
       "      <th></th>\n",
       "    </tr>\n",
       "  </thead>\n",
       "  <tbody>\n",
       "    <tr>\n",
       "      <th>0</th>\n",
       "      <td>21.715262</td>\n",
       "    </tr>\n",
       "    <tr>\n",
       "      <th>05</th>\n",
       "      <td>28.010811</td>\n",
       "    </tr>\n",
       "    <tr>\n",
       "      <th>10</th>\n",
       "      <td>25.236994</td>\n",
       "    </tr>\n",
       "    <tr>\n",
       "      <th>15</th>\n",
       "      <td>28.382166</td>\n",
       "    </tr>\n",
       "    <tr>\n",
       "      <th>20</th>\n",
       "      <td>27.024845</td>\n",
       "    </tr>\n",
       "    <tr>\n",
       "      <th>25</th>\n",
       "      <td>28.240260</td>\n",
       "    </tr>\n",
       "  </tbody>\n",
       "</table>\n",
       "</div>"
      ],
      "text/plain": [
       "           quantity\n",
       "discount           \n",
       "0         21.715262\n",
       "05        28.010811\n",
       "10        25.236994\n",
       "15        28.382166\n",
       "20        27.024845\n",
       "25        28.240260"
      ]
     },
     "execution_count": 26,
     "metadata": {},
     "output_type": "execute_result"
    }
   ],
   "source": [
    "disc_df.groupby('discount').mean()"
   ]
  },
  {
   "cell_type": "code",
   "execution_count": 19,
   "metadata": {},
   "outputs": [
    {
     "name": "stdout",
     "output_type": "stream",
     "text": [
      "                    sum_sq      df         F        PR(>F)\n",
      "C(discount)   17348.854662     5.0  9.798709  2.840681e-09\n",
      "Residual     758138.565924  2141.0       NaN           NaN\n"
     ]
    }
   ],
   "source": [
    "## run ANOVA test\n",
    "\n",
    "formula = 'quantity ~ C(discount)'\n",
    "lm = ols(formula, disc_df).fit()\n",
    "table = sm.stats.anova_lm(lm, typ=2)\n",
    "print(table)"
   ]
  },
  {
   "cell_type": "code",
   "execution_count": 20,
   "metadata": {},
   "outputs": [
    {
     "name": "stdout",
     "output_type": "stream",
     "text": [
      "Multiple Comparison of Means - Tukey HSD, FWER=0.05 \n",
      "====================================================\n",
      "group1 group2 meandiff p-adj   lower   upper  reject\n",
      "----------------------------------------------------\n",
      "     0     05   6.2955  0.001  2.0814 10.5097   True\n",
      "     0     10   3.5217 0.1885 -0.8187  7.8622  False\n",
      "     0     15   6.6669  0.001  2.1352 11.1986   True\n",
      "     0     20   5.3096 0.0096  0.8285  9.7907   True\n",
      "     0     25    6.525  0.001   1.954  11.096   True\n",
      "    05     10  -2.7738  0.704 -8.4504  2.9028  False\n",
      "    05     15   0.3714    0.9 -5.4528  6.1955  False\n",
      "    05     20   -0.986    0.9 -6.7708  4.7989  False\n",
      "    05     25   0.2294    0.9 -5.6253  6.0842  False\n",
      "    10     15   3.1452 0.6333  -2.771  9.0613  False\n",
      "    10     20   1.7879    0.9 -4.0896  7.6653  False\n",
      "    10     25   3.0033  0.677  -2.943  8.9496  False\n",
      "    15     20  -1.3573    0.9 -7.3775  4.6628  False\n",
      "    15     25  -0.1419    0.9 -6.2292  5.9454  False\n",
      "    20     25   1.2154    0.9 -4.8343  7.2652  False\n",
      "----------------------------------------------------\n"
     ]
    }
   ],
   "source": [
    "## use tukey test to determine which discount levels are statistically signifcant when compared to no discount\n",
    "\n",
    "from statsmodels.stats.multicomp import pairwise_tukeyhsd\n",
    "\n",
    "m_comp = pairwise_tukeyhsd(endog=disc_df['quantity'], groups=disc_df['discount'], alpha=0.05)\n",
    "print(m_comp)"
   ]
  },
  {
   "cell_type": "markdown",
   "metadata": {},
   "source": [
    "Based on these results, all discount levels except 10% have a statistically significant effect on quantity of product ordered compared to no discount. "
   ]
  },
  {
   "cell_type": "code",
   "execution_count": 21,
   "metadata": {},
   "outputs": [],
   "source": [
    "## finding power/effect size for discount levels\n",
    "\n",
    "def Cohen_d(group1, group2):\n",
    "\n",
    "    # Compute Cohen's d.\n",
    "\n",
    "    # group1: Series or NumPy array\n",
    "    # group2: Series or NumPy array\n",
    "\n",
    "    # returns a floating point number \n",
    "\n",
    "    diff = group1.mean() - group2.mean()\n",
    "\n",
    "    n1, n2 = len(group1), len(group2)\n",
    "    var1 = group1.var()\n",
    "    var2 = group2.var()\n",
    "\n",
    "    # Calculate the pooled threshold as shown earlier\n",
    "    pooled_var = (n1 * var1 + n2 * var2) / (n1 + n2)\n",
    "    \n",
    "    # Calculate Cohen's d statistic\n",
    "    d = diff / np.sqrt(pooled_var)\n",
    "    \n",
    "    return d"
   ]
  },
  {
   "cell_type": "code",
   "execution_count": 22,
   "metadata": {
    "scrolled": true
   },
   "outputs": [
    {
     "name": "stdout",
     "output_type": "stream",
     "text": [
      " Cohen d 5%: 0.3468767736284547\n",
      " Cohen d 10%: 0.19594203057834103\n",
      " Cohen d 15%: 0.3724041317472811\n",
      " Cohen d 20%: 0.3007122542913555\n",
      " Cohen d 25%: 0.3665925565267444\n"
     ]
    }
   ],
   "source": [
    "## Effect sizes for all discount levels\n",
    "\n",
    "cohen_d_05 = Cohen_d(d_05.Quantity, d_0.Quantity)\n",
    "cohen_d_1 = Cohen_d(d_1.Quantity, d_0.Quantity)\n",
    "cohen_d_15 = Cohen_d(d_15.Quantity, d_0.Quantity)\n",
    "cohen_d_2 = Cohen_d(d_2.Quantity, d_0.Quantity)\n",
    "cohen_d_25 = Cohen_d(d_25.Quantity, d_0.Quantity)\n",
    "\n",
    "print(f' Cohen d 5%: {cohen_d_05}\\n Cohen d 10%: {cohen_d_1}\\n Cohen d 15%: {cohen_d_15}\\n Cohen d 20%: {cohen_d_2}\\n Cohen d 25%: {cohen_d_25}')"
   ]
  },
  {
   "cell_type": "code",
   "execution_count": 23,
   "metadata": {},
   "outputs": [],
   "source": [
    "power_analysis = TTestIndPower()"
   ]
  },
  {
   "cell_type": "code",
   "execution_count": 24,
   "metadata": {},
   "outputs": [
    {
     "name": "stdout",
     "output_type": "stream",
     "text": [
      " Power 5%: 0.9929584550079327\n",
      " Power 10%: 0.6777698531567783\n",
      " Power 15%: 0.992814739576045\n",
      " Power 20%: 0.9494446453983841\n",
      " Power 25%: 0.9904044383116503\n"
     ]
    }
   ],
   "source": [
    "##Power for all discount levels\n",
    "\n",
    "power_05 = power_analysis.solve_power(effect_size=cohen_d_05, nobs1=len(d_05.Quantity), ratio = len(d_0)/len(d_05), alpha=.05)\n",
    "power_1 = power_analysis.solve_power(effect_size=cohen_d_1, nobs1=len(d_1.Quantity), ratio = len(d_0)/len(d_1), alpha=.05)\n",
    "power_15 = power_analysis.solve_power(effect_size=cohen_d_15, nobs1=len(d_15.Quantity), ratio = len(d_0)/len(d_15), alpha=.05)\n",
    "power_2 = power_analysis.solve_power(effect_size=cohen_d_2, nobs1=len(d_2.Quantity), ratio = len(d_0)/len(d_2), alpha=.05)\n",
    "power_25 = power_analysis.solve_power(effect_size=cohen_d_25, nobs1=len(d_25.Quantity), ratio = len(d_0)/len(d_25), alpha=.05)\n",
    "\n",
    "print(f' Power 5%: {power_05}\\n Power 10%: {power_1}\\n Power 15%: {power_15}\\n Power 20%: {power_2}\\n Power 25%: {power_25}')"
   ]
  },
  {
   "cell_type": "markdown",
   "metadata": {},
   "source": [
    "With a low effect size and power, this confirms the test results that a discount level of 10% does not have a statistically significant effect on quantity of products ordered.\n",
    "\n",
    "The power for the rest of the discount levels are all above 0.95 so we can say with extreme confidence that discounts have a statistically significant effect on quantity of products ordered.\n",
    "\n",
    "The best discount levels to use to maximize quantity of products ordered is either 15% or 25% because they have the biggest effect sizes, followed by 5% and 20%."
   ]
  },
  {
   "cell_type": "code",
   "execution_count": 25,
   "metadata": {},
   "outputs": [
    {
     "data": {
      "image/png": "[encoded data removed]",
      "text/plain": [
       "<Figure size 576x360 with 1 Axes>"
      ]
     },
     "metadata": {
      "needs_background": "light"
     },
     "output_type": "display_data"
    }
   ],
   "source": [
    "plt.figure(figsize=(8,5))\n",
    "sns.barplot(x='discount', y='quantity', data=disc_df, ci=False);\n",
    "plt.xlabel('Discount Percentage')\n",
    "plt.ylabel('Quantity')\n",
    "plt.title('Average Quantity Sold at Each Discount Level')\n",
    "plt.show();"
   ]
  },
  {
   "cell_type": "markdown",
   "metadata": {},
   "source": [
    "<h2>Does discount amount have a statistically significant effect on the average revenue made per product?</h2>\n",
    "\n",
    "<b>Null hypothesis:</b> Mean difference in average revenue between discounts and no discount is 0 <br>\n",
    "<b>Alternative hypothesis:</b> Mean difference in average revenue between discounts and no discount is not 0"
   ]
  },
  {
   "cell_type": "code",
   "execution_count": 26,
   "metadata": {},
   "outputs": [
    {
     "name": "stderr",
     "output_type": "stream",
     "text": [
      "C:\\Users\\Chris\\Anaconda3\\lib\\site-packages\\ipykernel_launcher.py:4: SettingWithCopyWarning: \n",
      "A value is trying to be set on a copy of a slice from a DataFrame.\n",
      "Try using .loc[row_indexer,col_indexer] = value instead\n",
      "\n",
      "See the caveats in the documentation: http://pandas.pydata.org/pandas-docs/stable/indexing.html#indexing-view-versus-copy\n",
      "  after removing the cwd from sys.path.\n"
     ]
    },
    {
     "data": {
      "text/html": [
       "<div>\n",
       "<style scoped>\n",
       "    .dataframe tbody tr th:only-of-type {\n",
       "        vertical-align: middle;\n",
       "    }\n",
       "\n",
       "    .dataframe tbody tr th {\n",
       "        vertical-align: top;\n",
       "    }\n",
       "\n",
       "    .dataframe thead th {\n",
       "        text-align: right;\n",
       "    }\n",
       "</style>\n",
       "<table border=\"1\" class=\"dataframe\">\n",
       "  <thead>\n",
       "    <tr style=\"text-align: right;\">\n",
       "      <th></th>\n",
       "      <th>UnitPrice</th>\n",
       "      <th>Quantity</th>\n",
       "      <th>Discount</th>\n",
       "      <th>Total</th>\n",
       "    </tr>\n",
       "  </thead>\n",
       "  <tbody>\n",
       "    <tr>\n",
       "      <th>0</th>\n",
       "      <td>14.0</td>\n",
       "      <td>12</td>\n",
       "      <td>0.0</td>\n",
       "      <td>168.0</td>\n",
       "    </tr>\n",
       "    <tr>\n",
       "      <th>1</th>\n",
       "      <td>9.8</td>\n",
       "      <td>10</td>\n",
       "      <td>0.0</td>\n",
       "      <td>98.0</td>\n",
       "    </tr>\n",
       "    <tr>\n",
       "      <th>2</th>\n",
       "      <td>34.8</td>\n",
       "      <td>5</td>\n",
       "      <td>0.0</td>\n",
       "      <td>174.0</td>\n",
       "    </tr>\n",
       "    <tr>\n",
       "      <th>3</th>\n",
       "      <td>18.6</td>\n",
       "      <td>9</td>\n",
       "      <td>0.0</td>\n",
       "      <td>167.4</td>\n",
       "    </tr>\n",
       "    <tr>\n",
       "      <th>4</th>\n",
       "      <td>42.4</td>\n",
       "      <td>40</td>\n",
       "      <td>0.0</td>\n",
       "      <td>1696.0</td>\n",
       "    </tr>\n",
       "  </tbody>\n",
       "</table>\n",
       "</div>"
      ],
      "text/plain": [
       "   UnitPrice  Quantity  Discount   Total\n",
       "0       14.0        12       0.0   168.0\n",
       "1        9.8        10       0.0    98.0\n",
       "2       34.8         5       0.0   174.0\n",
       "3       18.6         9       0.0   167.4\n",
       "4       42.4        40       0.0  1696.0"
      ]
     },
     "execution_count": 26,
     "metadata": {},
     "output_type": "execute_result"
    }
   ],
   "source": [
    "## create a new column named Total that is the total revenue for each order\n",
    "\n",
    "for x in [d_0, d_05, d_1, d_15, d_2, d_25]:\n",
    "    x['Total'] = round(x.UnitPrice * (1 - x.Discount) * x.Quantity, 2)\n",
    "    \n",
    "d_0.head()"
   ]
  },
  {
   "cell_type": "code",
   "execution_count": 27,
   "metadata": {},
   "outputs": [],
   "source": [
    "all_revenue = []\n",
    "\n",
    "for x in [d_0, d_05, d_1, d_15, d_2, d_25]:\n",
    "    all_revenue += list(x.Total)\n",
    "\n",
    "revenue_df = pd.DataFrame({'discount': disc_levels, 'revenue': all_revenue})"
   ]
  },
  {
   "cell_type": "code",
   "execution_count": 28,
   "metadata": {},
   "outputs": [
    {
     "data": {
      "text/html": [
       "<div>\n",
       "<style scoped>\n",
       "    .dataframe tbody tr th:only-of-type {\n",
       "        vertical-align: middle;\n",
       "    }\n",
       "\n",
       "    .dataframe tbody tr th {\n",
       "        vertical-align: top;\n",
       "    }\n",
       "\n",
       "    .dataframe thead th {\n",
       "        text-align: right;\n",
       "    }\n",
       "</style>\n",
       "<table border=\"1\" class=\"dataframe\">\n",
       "  <thead>\n",
       "    <tr style=\"text-align: right;\">\n",
       "      <th></th>\n",
       "      <th>revenue</th>\n",
       "    </tr>\n",
       "    <tr>\n",
       "      <th>discount</th>\n",
       "      <th></th>\n",
       "    </tr>\n",
       "  </thead>\n",
       "  <tbody>\n",
       "    <tr>\n",
       "      <th>0</th>\n",
       "      <td>570.006538</td>\n",
       "    </tr>\n",
       "    <tr>\n",
       "      <th>05</th>\n",
       "      <td>797.931676</td>\n",
       "    </tr>\n",
       "    <tr>\n",
       "      <th>10</th>\n",
       "      <td>528.896879</td>\n",
       "    </tr>\n",
       "    <tr>\n",
       "      <th>15</th>\n",
       "      <td>557.363949</td>\n",
       "    </tr>\n",
       "    <tr>\n",
       "      <th>20</th>\n",
       "      <td>553.919876</td>\n",
       "    </tr>\n",
       "    <tr>\n",
       "      <th>25</th>\n",
       "      <td>642.458117</td>\n",
       "    </tr>\n",
       "  </tbody>\n",
       "</table>\n",
       "</div>"
      ],
      "text/plain": [
       "             revenue\n",
       "discount            \n",
       "0         570.006538\n",
       "05        797.931676\n",
       "10        528.896879\n",
       "15        557.363949\n",
       "20        553.919876\n",
       "25        642.458117"
      ]
     },
     "execution_count": 28,
     "metadata": {},
     "output_type": "execute_result"
    }
   ],
   "source": [
    "revenue_df.groupby('discount').mean()"
   ]
  },
  {
   "cell_type": "code",
   "execution_count": 29,
   "metadata": {},
   "outputs": [
    {
     "data": {
      "image/png": "[encoded data removed]",
      "text/plain": [
       "<Figure size 720x576 with 1 Axes>"
      ]
     },
     "metadata": {
      "needs_background": "light"
     },
     "output_type": "display_data"
    }
   ],
   "source": [
    "plt.figure(figsize=(10, 8))\n",
    "sns.barplot(x='discount', y='revenue', data=revenue_df, ci=False);\n",
    "plt.xlabel('Discount Percentage')\n",
    "plt.ylabel('Revenue')\n",
    "plt.title('Average Revenue at Each Discount Level')\n",
    "plt.show();"
   ]
  },
  {
   "cell_type": "code",
   "execution_count": 30,
   "metadata": {},
   "outputs": [
    {
     "name": "stdout",
     "output_type": "stream",
     "text": [
      "                   sum_sq      df         F    PR(>F)\n",
      "C(discount)  9.970770e+06     5.0  2.122945  0.060007\n",
      "Residual     2.011113e+09  2141.0       NaN       NaN\n"
     ]
    }
   ],
   "source": [
    "## run ANOVA test on revenue with different discount levels\n",
    "\n",
    "formula = 'revenue ~ C(discount)'\n",
    "lm = ols(formula, revenue_df).fit()\n",
    "table = sm.stats.anova_lm(lm, typ=2)\n",
    "print(table)"
   ]
  },
  {
   "cell_type": "markdown",
   "metadata": {},
   "source": [
    "With a p-value greater than 0.05, we fail to reject the null hypothesis and conclude that discount levels do not have a statistically significant effect on average revenue per order. However, since the p value is so close to 0.05 we will take a look at each discount level compared to no discount"
   ]
  },
  {
   "cell_type": "code",
   "execution_count": 31,
   "metadata": {
    "scrolled": true
   },
   "outputs": [
    {
     "name": "stdout",
     "output_type": "stream",
     "text": [
      "  Multiple Comparison of Means - Tukey HSD, FWER=0.05   \n",
      "========================================================\n",
      "group1 group2  meandiff p-adj    lower    upper   reject\n",
      "--------------------------------------------------------\n",
      "     0     05  227.9251 0.0331   10.8773  444.973   True\n",
      "     0     10  -41.1097    0.9 -264.6606 182.4412  False\n",
      "     0     15  -12.6426    0.9  -246.045 220.7598  False\n",
      "     0     20  -16.0867    0.9 -246.8839 214.7106  False\n",
      "     0     25   72.4516    0.9 -162.9733 307.8764  False\n",
      "    05     10 -269.0348 0.0916 -561.4041  23.3345  False\n",
      "    05     15 -240.5677 0.1994 -540.5369  59.4014  False\n",
      "    05     20 -244.0118 0.1799 -541.9584  53.9348  False\n",
      "    05     25 -155.4736 0.6596 -457.0191 146.0719  False\n",
      "    10     15   28.4671    0.9 -276.2405 333.1747  False\n",
      "    10     20    25.023    0.9 -277.6938 327.7398  False\n",
      "    10     25  113.5612  0.898 -192.6983 419.8208  False\n",
      "    15     20   -3.4441    0.9 -313.5071  306.619  False\n",
      "    15     25   85.0942    0.9 -228.4287  398.617  False\n",
      "    20     25   88.5382    0.9 -223.0501 400.1266  False\n",
      "--------------------------------------------------------\n"
     ]
    }
   ],
   "source": [
    "m_comp = pairwise_tukeyhsd(endog=revenue_df['revenue'], groups=revenue_df['discount'], alpha=0.05)\n",
    "print(m_comp)"
   ]
  },
  {
   "cell_type": "code",
   "execution_count": 32,
   "metadata": {},
   "outputs": [
    {
     "name": "stdout",
     "output_type": "stream",
     "text": [
      " Cohen d 5%: 0.22085460529186474\n",
      " Cohen d 10%: -0.044431381944402285\n",
      " Cohen d 15%: -0.0136201814285996\n",
      " Cohen d 20%: -0.016700031181392863\n",
      " Cohen d 25%: 0.07510347229326439\n"
     ]
    }
   ],
   "source": [
    "## Effect sizes for all discount levels\n",
    "\n",
    "cohen_d_05 = Cohen_d(d_05.Total, d_0.Total)\n",
    "cohen_d_1 = Cohen_d(d_1.Total, d_0.Total)\n",
    "cohen_d_15 = Cohen_d(d_15.Total, d_0.Total)\n",
    "cohen_d_2 = Cohen_d(d_2.Total, d_0.Total)\n",
    "cohen_d_25 = Cohen_d(d_25.Total, d_0.Total)\n",
    "\n",
    "print(f' Cohen d 5%: {cohen_d_05}\\n Cohen d 10%: {cohen_d_1}\\n Cohen d 15%: {cohen_d_15}\\n Cohen d 20%: {cohen_d_2}\\n Cohen d 25%: {cohen_d_25}')"
   ]
  },
  {
   "cell_type": "code",
   "execution_count": 33,
   "metadata": {},
   "outputs": [
    {
     "name": "stdout",
     "output_type": "stream",
     "text": [
      " Power 5%: 0.8026463488652724\n",
      " Power 10%: 0.0851917852909857\n",
      " Power 15%: 0.05298240542410324\n",
      " Power 20%: 0.0545898781743751\n",
      " Power 25%: 0.14261517316847092\n"
     ]
    }
   ],
   "source": [
    "##Power for all discount levels\n",
    "\n",
    "power_05 = power_analysis.solve_power(effect_size=cohen_d_05, nobs1=len(d_05.Total), ratio = len(d_0)/len(d_05), alpha=.05)\n",
    "power_1 = power_analysis.solve_power(effect_size=cohen_d_1, nobs1=len(d_1.Total), ratio = len(d_0)/len(d_1), alpha=.05)\n",
    "power_15 = power_analysis.solve_power(effect_size=cohen_d_15, nobs1=len(d_15.Total), ratio = len(d_0)/len(d_15), alpha=.05)\n",
    "power_2 = power_analysis.solve_power(effect_size=cohen_d_2, nobs1=len(d_2.Total), ratio = len(d_0)/len(d_2), alpha=.05)\n",
    "power_25 = power_analysis.solve_power(effect_size=cohen_d_25, nobs1=len(d_25.Total), ratio = len(d_0)/len(d_25), alpha=.05)\n",
    "\n",
    "print(f' Power 5%: {power_05}\\n Power 10%: {power_1}\\n Power 15%: {power_15}\\n Power 20%: {power_2}\\n Power 25%: {power_25}')"
   ]
  },
  {
   "cell_type": "markdown",
   "metadata": {},
   "source": [
    "The discount level of 5% has a statistically significant effect on average revenue per order with a p value of 0.03. We can reject the null hypothesis for the discount level at 5%, but we fail to reject the null hypothesis for every other discount level.\n",
    "\n",
    "Only the discount level at 5% has a notable effect size but even then the effect size is small at 0.22. All other discount levels effect sizes are too small to differ from having no discount."
   ]
  },
  {
   "cell_type": "markdown",
   "metadata": {},
   "source": [
    "<h2>Does region have a statistically significant effect on the average amount spent in an order?</h2>\n",
    "\n",
    "<b>Null hypothesis:</b> Average amount spent in an order between regions is the same <br>\n",
    "<b>Alternative hypothesis:</b> Average amount spent in an order between regions is different"
   ]
  },
  {
   "cell_type": "code",
   "execution_count": 34,
   "metadata": {},
   "outputs": [
    {
     "data": {
      "text/html": [
       "<div>\n",
       "<style scoped>\n",
       "    .dataframe tbody tr th:only-of-type {\n",
       "        vertical-align: middle;\n",
       "    }\n",
       "\n",
       "    .dataframe tbody tr th {\n",
       "        vertical-align: top;\n",
       "    }\n",
       "\n",
       "    .dataframe thead th {\n",
       "        text-align: right;\n",
       "    }\n",
       "</style>\n",
       "<table border=\"1\" class=\"dataframe\">\n",
       "  <thead>\n",
       "    <tr style=\"text-align: right;\">\n",
       "      <th></th>\n",
       "      <th>OrderId</th>\n",
       "      <th>Quantity</th>\n",
       "      <th>UnitPrice</th>\n",
       "      <th>Discount</th>\n",
       "      <th>Region</th>\n",
       "    </tr>\n",
       "  </thead>\n",
       "  <tbody>\n",
       "    <tr>\n",
       "      <th>0</th>\n",
       "      <td>10248</td>\n",
       "      <td>12</td>\n",
       "      <td>14.0</td>\n",
       "      <td>0.0</td>\n",
       "      <td>Western Europe</td>\n",
       "    </tr>\n",
       "    <tr>\n",
       "      <th>1</th>\n",
       "      <td>10248</td>\n",
       "      <td>10</td>\n",
       "      <td>9.8</td>\n",
       "      <td>0.0</td>\n",
       "      <td>Western Europe</td>\n",
       "    </tr>\n",
       "    <tr>\n",
       "      <th>2</th>\n",
       "      <td>10248</td>\n",
       "      <td>5</td>\n",
       "      <td>34.8</td>\n",
       "      <td>0.0</td>\n",
       "      <td>Western Europe</td>\n",
       "    </tr>\n",
       "    <tr>\n",
       "      <th>3</th>\n",
       "      <td>10249</td>\n",
       "      <td>9</td>\n",
       "      <td>18.6</td>\n",
       "      <td>0.0</td>\n",
       "      <td>Western Europe</td>\n",
       "    </tr>\n",
       "    <tr>\n",
       "      <th>4</th>\n",
       "      <td>10249</td>\n",
       "      <td>40</td>\n",
       "      <td>42.4</td>\n",
       "      <td>0.0</td>\n",
       "      <td>Western Europe</td>\n",
       "    </tr>\n",
       "  </tbody>\n",
       "</table>\n",
       "</div>"
      ],
      "text/plain": [
       "   OrderId  Quantity  UnitPrice  Discount          Region\n",
       "0    10248        12       14.0       0.0  Western Europe\n",
       "1    10248        10        9.8       0.0  Western Europe\n",
       "2    10248         5       34.8       0.0  Western Europe\n",
       "3    10249         9       18.6       0.0  Western Europe\n",
       "4    10249        40       42.4       0.0  Western Europe"
      ]
     },
     "execution_count": 34,
     "metadata": {},
     "output_type": "execute_result"
    }
   ],
   "source": [
    "cur.execute(\"\"\"SELECT od.OrderID, od.Quantity, od.UnitPrice, od.Discount, c.Region \n",
    "                FROM OrderDetail od\n",
    "                JOIN [Order] o\n",
    "                ON od.OrderID = o.ID\n",
    "                JOIN Customer c\n",
    "                ON c.ID = o.CustomerID;\"\"\")\n",
    "df2 = pd.DataFrame(cur.fetchall())\n",
    "df2.columns = [x[0] for x in cur.description]\n",
    "df2.head()"
   ]
  },
  {
   "cell_type": "code",
   "execution_count": 35,
   "metadata": {},
   "outputs": [
    {
     "data": {
      "text/plain": [
       "Western Europe     736\n",
       "North America      427\n",
       "South America      304\n",
       "British Isles      190\n",
       "Northern Europe    143\n",
       "Southern Europe    137\n",
       "Scandinavia         70\n",
       "Central America     55\n",
       "Eastern Europe      16\n",
       "Name: Region, dtype: int64"
      ]
     },
     "execution_count": 35,
     "metadata": {},
     "output_type": "execute_result"
    }
   ],
   "source": [
    "df2.Region.value_counts()"
   ]
  },
  {
   "cell_type": "code",
   "execution_count": 36,
   "metadata": {},
   "outputs": [],
   "source": [
    "## combine smaller regions with larger ones based on geographical location to remove small sample sizes\n",
    "## combine Northern Europe with Scandinavia, Southern Europe with Eastern Europe, and Central America with South America\n",
    "\n",
    "df2.loc[(df2['Region'] == 'Northern Europe') | (df2['Region'] == 'Scandinavia'), 'Region'] = 'Northern Europe and Scandinavia'\n",
    "df2.loc[(df2['Region'] == 'Southern Europe') | (df2['Region'] == 'Eastern Europe'), 'Region'] = 'Southern and Eastern Europe'\n",
    "df2.loc[(df2['Region'] == 'Central America') | (df2['Region'] == 'South America'), 'Region'] = 'Central and South America'"
   ]
  },
  {
   "cell_type": "code",
   "execution_count": 37,
   "metadata": {},
   "outputs": [
    {
     "data": {
      "text/plain": [
       "Western Europe                     736\n",
       "North America                      427\n",
       "Central and South America          359\n",
       "Northern Europe and Scandinavia    213\n",
       "British Isles                      190\n",
       "Southern and Eastern Europe        153\n",
       "Name: Region, dtype: int64"
      ]
     },
     "execution_count": 37,
     "metadata": {},
     "output_type": "execute_result"
    }
   ],
   "source": [
    "df2.Region.value_counts()"
   ]
  },
  {
   "cell_type": "code",
   "execution_count": 38,
   "metadata": {},
   "outputs": [
    {
     "data": {
      "text/html": [
       "<div>\n",
       "<style scoped>\n",
       "    .dataframe tbody tr th:only-of-type {\n",
       "        vertical-align: middle;\n",
       "    }\n",
       "\n",
       "    .dataframe tbody tr th {\n",
       "        vertical-align: top;\n",
       "    }\n",
       "\n",
       "    .dataframe thead th {\n",
       "        text-align: right;\n",
       "    }\n",
       "</style>\n",
       "<table border=\"1\" class=\"dataframe\">\n",
       "  <thead>\n",
       "    <tr style=\"text-align: right;\">\n",
       "      <th></th>\n",
       "      <th>OrderId</th>\n",
       "      <th>Quantity</th>\n",
       "      <th>UnitPrice</th>\n",
       "      <th>Discount</th>\n",
       "      <th>Region</th>\n",
       "      <th>Total</th>\n",
       "    </tr>\n",
       "  </thead>\n",
       "  <tbody>\n",
       "    <tr>\n",
       "      <th>0</th>\n",
       "      <td>10248</td>\n",
       "      <td>12</td>\n",
       "      <td>14.0</td>\n",
       "      <td>0.0</td>\n",
       "      <td>Western Europe</td>\n",
       "      <td>168.0</td>\n",
       "    </tr>\n",
       "    <tr>\n",
       "      <th>1</th>\n",
       "      <td>10248</td>\n",
       "      <td>10</td>\n",
       "      <td>9.8</td>\n",
       "      <td>0.0</td>\n",
       "      <td>Western Europe</td>\n",
       "      <td>98.0</td>\n",
       "    </tr>\n",
       "    <tr>\n",
       "      <th>2</th>\n",
       "      <td>10248</td>\n",
       "      <td>5</td>\n",
       "      <td>34.8</td>\n",
       "      <td>0.0</td>\n",
       "      <td>Western Europe</td>\n",
       "      <td>174.0</td>\n",
       "    </tr>\n",
       "    <tr>\n",
       "      <th>3</th>\n",
       "      <td>10249</td>\n",
       "      <td>9</td>\n",
       "      <td>18.6</td>\n",
       "      <td>0.0</td>\n",
       "      <td>Western Europe</td>\n",
       "      <td>167.4</td>\n",
       "    </tr>\n",
       "    <tr>\n",
       "      <th>4</th>\n",
       "      <td>10249</td>\n",
       "      <td>40</td>\n",
       "      <td>42.4</td>\n",
       "      <td>0.0</td>\n",
       "      <td>Western Europe</td>\n",
       "      <td>1696.0</td>\n",
       "    </tr>\n",
       "  </tbody>\n",
       "</table>\n",
       "</div>"
      ],
      "text/plain": [
       "   OrderId  Quantity  UnitPrice  Discount          Region   Total\n",
       "0    10248        12       14.0       0.0  Western Europe   168.0\n",
       "1    10248        10        9.8       0.0  Western Europe    98.0\n",
       "2    10248         5       34.8       0.0  Western Europe   174.0\n",
       "3    10249         9       18.6       0.0  Western Europe   167.4\n",
       "4    10249        40       42.4       0.0  Western Europe  1696.0"
      ]
     },
     "execution_count": 38,
     "metadata": {},
     "output_type": "execute_result"
    }
   ],
   "source": [
    "## getting the total amount spent for each product\n",
    "\n",
    "df2['Total'] = df2.UnitPrice * (1 - df2.Discount) * df2.Quantity\n",
    "df2.head()"
   ]
  },
  {
   "cell_type": "code",
   "execution_count": 39,
   "metadata": {},
   "outputs": [],
   "source": [
    "## creating a new df grouping by OrderId and Region to find the total amount spent per order and dropping unnecessary columns\n",
    "\n",
    "region_df = df2.groupby(['OrderId', 'Region']).sum()\n",
    "region_df.drop(['Quantity', 'UnitPrice', 'Discount'], axis=1, inplace=True)\n",
    "region_df.reset_index(inplace=True)\n",
    "region_df.drop(['OrderId'], axis=1, inplace=True)"
   ]
  },
  {
   "cell_type": "code",
   "execution_count": 40,
   "metadata": {},
   "outputs": [
    {
     "data": {
      "text/plain": [
       "1533.0530143570545"
      ]
     },
     "execution_count": 40,
     "metadata": {},
     "output_type": "execute_result"
    }
   ],
   "source": [
    "region_df.Total.mean()"
   ]
  },
  {
   "cell_type": "code",
   "execution_count": 41,
   "metadata": {},
   "outputs": [
    {
     "data": {
      "text/html": [
       "<div>\n",
       "<style scoped>\n",
       "    .dataframe tbody tr th:only-of-type {\n",
       "        vertical-align: middle;\n",
       "    }\n",
       "\n",
       "    .dataframe tbody tr th {\n",
       "        vertical-align: top;\n",
       "    }\n",
       "\n",
       "    .dataframe thead th {\n",
       "        text-align: right;\n",
       "    }\n",
       "</style>\n",
       "<table border=\"1\" class=\"dataframe\">\n",
       "  <thead>\n",
       "    <tr style=\"text-align: right;\">\n",
       "      <th></th>\n",
       "      <th>Total</th>\n",
       "    </tr>\n",
       "    <tr>\n",
       "      <th>Region</th>\n",
       "      <th></th>\n",
       "    </tr>\n",
       "  </thead>\n",
       "  <tbody>\n",
       "    <tr>\n",
       "      <th>British Isles</th>\n",
       "      <td>1452.682867</td>\n",
       "    </tr>\n",
       "    <tr>\n",
       "      <th>Central and South America</th>\n",
       "      <td>1075.918297</td>\n",
       "    </tr>\n",
       "    <tr>\n",
       "      <th>North America</th>\n",
       "      <td>1945.926977</td>\n",
       "    </tr>\n",
       "    <tr>\n",
       "      <th>Northern Europe and Scandinavia</th>\n",
       "      <td>1345.799578</td>\n",
       "    </tr>\n",
       "    <tr>\n",
       "      <th>Southern and Eastern Europe</th>\n",
       "      <td>686.727711</td>\n",
       "    </tr>\n",
       "    <tr>\n",
       "      <th>Western Europe</th>\n",
       "      <td>1851.280914</td>\n",
       "    </tr>\n",
       "  </tbody>\n",
       "</table>\n",
       "</div>"
      ],
      "text/plain": [
       "                                       Total\n",
       "Region                                      \n",
       "British Isles                    1452.682867\n",
       "Central and South America        1075.918297\n",
       "North America                    1945.926977\n",
       "Northern Europe and Scandinavia  1345.799578\n",
       "Southern and Eastern Europe       686.727711\n",
       "Western Europe                   1851.280914"
      ]
     },
     "execution_count": 41,
     "metadata": {},
     "output_type": "execute_result"
    }
   ],
   "source": [
    "region_df.groupby('Region').mean()"
   ]
  },
  {
   "cell_type": "code",
   "execution_count": 42,
   "metadata": {},
   "outputs": [
    {
     "data": {
      "image/png": "[encoded data removed]",
      "text/plain": [
       "<Figure size 576x432 with 1 Axes>"
      ]
     },
     "metadata": {
      "needs_background": "light"
     },
     "output_type": "display_data"
    }
   ],
   "source": [
    "plt.figure(figsize=(8, 6))\n",
    "sns.barplot(x='Total', y='Region', data=region_df, ci=None);\n",
    "plt.xlabel('Amount Spent')\n",
    "plt.ylabel('Region')\n",
    "plt.title('Average Amount Spent per Order')\n",
    "plt.show();"
   ]
  },
  {
   "cell_type": "code",
   "execution_count": 43,
   "metadata": {},
   "outputs": [
    {
     "name": "stdout",
     "output_type": "stream",
     "text": [
      "                 sum_sq     df         F        PR(>F)\n",
      "C(Region)  1.386334e+08    5.0  8.469639  8.023836e-08\n",
      "Residual   2.602556e+09  795.0       NaN           NaN\n"
     ]
    }
   ],
   "source": [
    "## running ANOVA test on total amount spent per order with different regions\n",
    "\n",
    "formula = 'Total ~ C(Region)'\n",
    "lm = ols(formula, region_df).fit()\n",
    "table = sm.stats.anova_lm(lm, typ=2)\n",
    "print(table)"
   ]
  },
  {
   "cell_type": "markdown",
   "metadata": {},
   "source": [
    "We can reject the null hypothesis and conclude that region does have a statistically significant effect on average amount spent per order with a p value less than 0.05"
   ]
  },
  {
   "cell_type": "code",
   "execution_count": 44,
   "metadata": {},
   "outputs": [],
   "source": [
    "## seperating regions into different dataframes to make code easier to read\n",
    "\n",
    "region_we = region_df[region_df['Region'] == 'Western Europe']\n",
    "region_csa = region_df[region_df['Region'] == 'Central and South America']\n",
    "region_na = region_df[region_df['Region'] == 'North America']\n",
    "region_nes = region_df[region_df['Region'] == 'Northern Europe and Scandinavia']\n",
    "region_see = region_df[region_df['Region'] == 'Southern and Eastern Europe']\n",
    "region_bi = region_df[region_df['Region'] == 'British Isles']"
   ]
  },
  {
   "cell_type": "code",
   "execution_count": 45,
   "metadata": {},
   "outputs": [
    {
     "name": "stdout",
     "output_type": "stream",
     "text": [
      " Western Europe: 0.16706714243129653\n",
      " Central and South America: -0.25479992279987035\n",
      " North America: 0.2158517957156489\n",
      " Northern Europe and Scandinavia: -0.10281809816336003\n",
      " Southern and Eastern Europe: -0.4740605832425664\n",
      " British Isles: -0.043862230311207555\n"
     ]
    }
   ],
   "source": [
    "## Finding effect size for each region compared to all regions combined\n",
    "\n",
    "cohen_d_we = Cohen_d(region_we.Total, region_df.Total)\n",
    "cohen_d_csa = Cohen_d(region_csa.Total, region_df.Total)\n",
    "cohen_d_na = Cohen_d(region_na.Total, region_df.Total)\n",
    "cohen_d_nes = Cohen_d(region_nes.Total, region_df.Total)\n",
    "cohen_d_see = Cohen_d(region_see.Total, region_df.Total)\n",
    "cohen_d_bi = Cohen_d(region_bi.Total, region_df.Total)\n",
    "\n",
    "print(f' Western Europe: {cohen_d_we}\\n Central and South America: {cohen_d_csa}\\n North America: {cohen_d_na}\\n Northern Europe and Scandinavia: {cohen_d_nes}\\n Southern and Eastern Europe: {cohen_d_see}\\n British Isles: {cohen_d_bi}')"
   ]
  },
  {
   "cell_type": "code",
   "execution_count": 46,
   "metadata": {},
   "outputs": [
    {
     "name": "stdout",
     "output_type": "stream",
     "text": [
      " Western Europe: 0.6622276337331425\n",
      " Central and South America: 0.8119148619533798\n",
      " North America: 0.6834427922200201\n",
      " Northern Europe and Scandinavia: 0.14465420598692846\n",
      " Southern and Eastern Europe: 0.9688559429526419\n",
      " British Isles: 0.06521339230056292\n"
     ]
    }
   ],
   "source": [
    "## Power for the test for each region\n",
    "\n",
    "power_we = power_analysis.solve_power(effect_size=cohen_d_we, nobs1=len(region_we), ratio = len(region_df)/len(region_we), alpha=.05)\n",
    "power_csa = power_analysis.solve_power(effect_size=cohen_d_csa, nobs1=len(region_csa), ratio = len(region_df)/len(region_csa), alpha=.05)\n",
    "power_na = power_analysis.solve_power(effect_size=cohen_d_na, nobs1=len(region_na), ratio = len(region_df)/len(region_na), alpha=.05)\n",
    "power_nes = power_analysis.solve_power(effect_size=cohen_d_nes, nobs1=len(region_nes), ratio = len(region_df)/len(region_nes), alpha=.05)\n",
    "power_see = power_analysis.solve_power(effect_size=cohen_d_see, nobs1=len(region_see), ratio = len(region_df)/len(region_see), alpha=.05)\n",
    "power_bi = power_analysis.solve_power(effect_size=cohen_d_bi, nobs1=len(region_bi), ratio = len(region_df)/len(region_bi), alpha=.05)\n",
    "\n",
    "print(f' Western Europe: {power_we}\\n Central and South America: {power_csa}\\n North America: {power_na}\\n Northern Europe and Scandinavia: {power_nes}\\n Southern and Eastern Europe: {power_see}\\n British Isles: {power_bi}')"
   ]
  },
  {
   "cell_type": "markdown",
   "metadata": {},
   "source": [
    "The effect size for Northern Europe and Scandinavia and British Isles is too small to have a meaningful effect on average amount spent per order when compared to all orders, and this is further proven with a Power of less than 0.2 for both regions.\n",
    "\n",
    "Western Europe and North America have Powers of 0.66 and 0.68 with effect sizes of 0.17 and 0.22. We can say with some confidence that orders in these two regions will be higher than average.\n",
    "\n",
    "Central and South American and Southern and Eastern Europe have Powers of 0.81 and 0.97 with effect sizes of -0.25 and -0.47. We can be very confident that these two regions differ greatly from the population mean and orders in these two regions will be lower than average."
   ]
  },
  {
   "cell_type": "markdown",
   "metadata": {},
   "source": [
    "<h2>How does discount affect quantity ordered in different regions?</h2>\n",
    "\n",
    "<b>Null hypothesis:</b> All regions order the same amount of discounted and not discounted products <br>\n",
    "<b>Alternative hypothesis:</b> Regions order a different amount of discounted and not discounted products"
   ]
  },
  {
   "cell_type": "code",
   "execution_count": 47,
   "metadata": {},
   "outputs": [
    {
     "data": {
      "text/html": [
       "<div>\n",
       "<style scoped>\n",
       "    .dataframe tbody tr th:only-of-type {\n",
       "        vertical-align: middle;\n",
       "    }\n",
       "\n",
       "    .dataframe tbody tr th {\n",
       "        vertical-align: top;\n",
       "    }\n",
       "\n",
       "    .dataframe thead th {\n",
       "        text-align: right;\n",
       "    }\n",
       "</style>\n",
       "<table border=\"1\" class=\"dataframe\">\n",
       "  <thead>\n",
       "    <tr style=\"text-align: right;\">\n",
       "      <th></th>\n",
       "      <th>Quantity</th>\n",
       "      <th>Discount</th>\n",
       "      <th>Region</th>\n",
       "    </tr>\n",
       "  </thead>\n",
       "  <tbody>\n",
       "    <tr>\n",
       "      <th>0</th>\n",
       "      <td>12</td>\n",
       "      <td>0.0</td>\n",
       "      <td>Western Europe</td>\n",
       "    </tr>\n",
       "    <tr>\n",
       "      <th>1</th>\n",
       "      <td>10</td>\n",
       "      <td>0.0</td>\n",
       "      <td>Western Europe</td>\n",
       "    </tr>\n",
       "    <tr>\n",
       "      <th>2</th>\n",
       "      <td>5</td>\n",
       "      <td>0.0</td>\n",
       "      <td>Western Europe</td>\n",
       "    </tr>\n",
       "    <tr>\n",
       "      <th>3</th>\n",
       "      <td>9</td>\n",
       "      <td>0.0</td>\n",
       "      <td>Western Europe</td>\n",
       "    </tr>\n",
       "    <tr>\n",
       "      <th>4</th>\n",
       "      <td>40</td>\n",
       "      <td>0.0</td>\n",
       "      <td>Western Europe</td>\n",
       "    </tr>\n",
       "  </tbody>\n",
       "</table>\n",
       "</div>"
      ],
      "text/plain": [
       "   Quantity  Discount          Region\n",
       "0        12       0.0  Western Europe\n",
       "1        10       0.0  Western Europe\n",
       "2         5       0.0  Western Europe\n",
       "3         9       0.0  Western Europe\n",
       "4        40       0.0  Western Europe"
      ]
     },
     "execution_count": 47,
     "metadata": {},
     "output_type": "execute_result"
    }
   ],
   "source": [
    "cur.execute(\"\"\"SELECT od.Quantity, od.Discount, c.Region \n",
    "                FROM OrderDetail od\n",
    "                JOIN [Order] o\n",
    "                ON od.OrderID = o.ID\n",
    "                JOIN Customer c\n",
    "                ON c.ID = o.CustomerID;\"\"\")\n",
    "df3 = pd.DataFrame(cur.fetchall())\n",
    "df3.columns = [x[0] for x in cur.description]\n",
    "df3.head()"
   ]
  },
  {
   "cell_type": "code",
   "execution_count": 48,
   "metadata": {},
   "outputs": [],
   "source": [
    "## combine smaller regions with larger ones based on geographical location to remove small sample sizes\n",
    "## combine Northern Europe with Scandinavia, Southern Europe with Eastern Europe, and Central America with South America\n",
    "\n",
    "df3.loc[(df3['Region'] == 'Northern Europe') | (df3['Region'] == 'Scandinavia'), 'Region'] = 'Northern Europe and Scandinavia'\n",
    "df3.loc[(df3['Region'] == 'Southern Europe') | (df3['Region'] == 'Eastern Europe'), 'Region'] = 'Southern and Eastern Europe'\n",
    "df3.loc[(df3['Region'] == 'Central America') | (df3['Region'] == 'South America'), 'Region'] = 'Central and South America'"
   ]
  },
  {
   "cell_type": "code",
   "execution_count": 49,
   "metadata": {},
   "outputs": [
    {
     "data": {
      "text/plain": [
       "0.00    1272\n",
       "0.05     179\n",
       "0.10     164\n",
       "0.20     158\n",
       "0.15     150\n",
       "0.25     147\n",
       "0.03       3\n",
       "0.02       2\n",
       "0.01       1\n",
       "0.04       1\n",
       "0.06       1\n",
       "Name: Discount, dtype: int64"
      ]
     },
     "execution_count": 49,
     "metadata": {},
     "output_type": "execute_result"
    }
   ],
   "source": [
    "## create a new df for making a graph later\n",
    "\n",
    "disc_levels = df3\n",
    "disc_levels.Discount.value_counts()"
   ]
  },
  {
   "cell_type": "code",
   "execution_count": 50,
   "metadata": {},
   "outputs": [
    {
     "data": {
      "text/html": [
       "<div>\n",
       "<style scoped>\n",
       "    .dataframe tbody tr th:only-of-type {\n",
       "        vertical-align: middle;\n",
       "    }\n",
       "\n",
       "    .dataframe tbody tr th {\n",
       "        vertical-align: top;\n",
       "    }\n",
       "\n",
       "    .dataframe thead th {\n",
       "        text-align: right;\n",
       "    }\n",
       "</style>\n",
       "<table border=\"1\" class=\"dataframe\">\n",
       "  <thead>\n",
       "    <tr style=\"text-align: right;\">\n",
       "      <th></th>\n",
       "      <th>Quantity</th>\n",
       "      <th>Discount</th>\n",
       "      <th>Region</th>\n",
       "    </tr>\n",
       "  </thead>\n",
       "  <tbody>\n",
       "    <tr>\n",
       "      <th>2056</th>\n",
       "      <td>1</td>\n",
       "      <td>0.02</td>\n",
       "      <td>North America</td>\n",
       "    </tr>\n",
       "    <tr>\n",
       "      <th>2062</th>\n",
       "      <td>1</td>\n",
       "      <td>0.03</td>\n",
       "      <td>North America</td>\n",
       "    </tr>\n",
       "    <tr>\n",
       "      <th>2063</th>\n",
       "      <td>2</td>\n",
       "      <td>0.03</td>\n",
       "      <td>North America</td>\n",
       "    </tr>\n",
       "    <tr>\n",
       "      <th>2064</th>\n",
       "      <td>1</td>\n",
       "      <td>0.04</td>\n",
       "      <td>North America</td>\n",
       "    </tr>\n",
       "    <tr>\n",
       "      <th>2069</th>\n",
       "      <td>3</td>\n",
       "      <td>0.02</td>\n",
       "      <td>North America</td>\n",
       "    </tr>\n",
       "    <tr>\n",
       "      <th>2072</th>\n",
       "      <td>2</td>\n",
       "      <td>0.06</td>\n",
       "      <td>North America</td>\n",
       "    </tr>\n",
       "    <tr>\n",
       "      <th>2073</th>\n",
       "      <td>2</td>\n",
       "      <td>0.03</td>\n",
       "      <td>North America</td>\n",
       "    </tr>\n",
       "    <tr>\n",
       "      <th>2075</th>\n",
       "      <td>2</td>\n",
       "      <td>0.01</td>\n",
       "      <td>North America</td>\n",
       "    </tr>\n",
       "  </tbody>\n",
       "</table>\n",
       "</div>"
      ],
      "text/plain": [
       "      Quantity  Discount         Region\n",
       "2056         1      0.02  North America\n",
       "2062         1      0.03  North America\n",
       "2063         2      0.03  North America\n",
       "2064         1      0.04  North America\n",
       "2069         3      0.02  North America\n",
       "2072         2      0.06  North America\n",
       "2073         2      0.03  North America\n",
       "2075         2      0.01  North America"
      ]
     },
     "execution_count": 50,
     "metadata": {},
     "output_type": "execute_result"
    }
   ],
   "source": [
    "disc_levels.loc[(disc_levels['Discount'] > 0) & (disc_levels['Discount'] < .05) | (disc_levels['Discount'] == .06)]"
   ]
  },
  {
   "cell_type": "code",
   "execution_count": 51,
   "metadata": {},
   "outputs": [],
   "source": [
    "disc_levels = disc_levels.drop([2056, 2062, 2063, 2064, 2069, 2072, 2073, 2075])"
   ]
  },
  {
   "cell_type": "code",
   "execution_count": 52,
   "metadata": {},
   "outputs": [],
   "source": [
    "## change discount column into a categorical column\n",
    "\n",
    "df3.loc[df3['Discount'] > 0, 'Discount'] = 1"
   ]
  },
  {
   "cell_type": "code",
   "execution_count": 53,
   "metadata": {},
   "outputs": [
    {
     "data": {
      "text/html": [
       "<div>\n",
       "<style scoped>\n",
       "    .dataframe tbody tr th:only-of-type {\n",
       "        vertical-align: middle;\n",
       "    }\n",
       "\n",
       "    .dataframe tbody tr th {\n",
       "        vertical-align: top;\n",
       "    }\n",
       "\n",
       "    .dataframe thead th {\n",
       "        text-align: right;\n",
       "    }\n",
       "</style>\n",
       "<table border=\"1\" class=\"dataframe\">\n",
       "  <thead>\n",
       "    <tr style=\"text-align: right;\">\n",
       "      <th></th>\n",
       "      <th></th>\n",
       "      <th>Quantity</th>\n",
       "    </tr>\n",
       "    <tr>\n",
       "      <th>Region</th>\n",
       "      <th>Discount</th>\n",
       "      <th></th>\n",
       "    </tr>\n",
       "  </thead>\n",
       "  <tbody>\n",
       "    <tr>\n",
       "      <th rowspan=\"2\" valign=\"top\">British Isles</th>\n",
       "      <th>0.0</th>\n",
       "      <td>19.496124</td>\n",
       "    </tr>\n",
       "    <tr>\n",
       "      <th>1.0</th>\n",
       "      <td>31.327869</td>\n",
       "    </tr>\n",
       "    <tr>\n",
       "      <th rowspan=\"2\" valign=\"top\">Central and South America</th>\n",
       "      <th>0.0</th>\n",
       "      <td>19.384298</td>\n",
       "    </tr>\n",
       "    <tr>\n",
       "      <th>1.0</th>\n",
       "      <td>19.948718</td>\n",
       "    </tr>\n",
       "    <tr>\n",
       "      <th rowspan=\"2\" valign=\"top\">North America</th>\n",
       "      <th>0.0</th>\n",
       "      <td>23.531496</td>\n",
       "    </tr>\n",
       "    <tr>\n",
       "      <th>1.0</th>\n",
       "      <td>30.849711</td>\n",
       "    </tr>\n",
       "    <tr>\n",
       "      <th rowspan=\"2\" valign=\"top\">Northern Europe and Scandinavia</th>\n",
       "      <th>0.0</th>\n",
       "      <td>19.378571</td>\n",
       "    </tr>\n",
       "    <tr>\n",
       "      <th>1.0</th>\n",
       "      <td>23.808219</td>\n",
       "    </tr>\n",
       "    <tr>\n",
       "      <th rowspan=\"2\" valign=\"top\">Southern and Eastern Europe</th>\n",
       "      <th>0.0</th>\n",
       "      <td>13.095745</td>\n",
       "    </tr>\n",
       "    <tr>\n",
       "      <th>1.0</th>\n",
       "      <td>17.745763</td>\n",
       "    </tr>\n",
       "    <tr>\n",
       "      <th rowspan=\"2\" valign=\"top\">Western Europe</th>\n",
       "      <th>0.0</th>\n",
       "      <td>25.983051</td>\n",
       "    </tr>\n",
       "    <tr>\n",
       "      <th>1.0</th>\n",
       "      <td>29.380805</td>\n",
       "    </tr>\n",
       "  </tbody>\n",
       "</table>\n",
       "</div>"
      ],
      "text/plain": [
       "                                           Quantity\n",
       "Region                          Discount           \n",
       "British Isles                   0.0       19.496124\n",
       "                                1.0       31.327869\n",
       "Central and South America       0.0       19.384298\n",
       "                                1.0       19.948718\n",
       "North America                   0.0       23.531496\n",
       "                                1.0       30.849711\n",
       "Northern Europe and Scandinavia 0.0       19.378571\n",
       "                                1.0       23.808219\n",
       "Southern and Eastern Europe     0.0       13.095745\n",
       "                                1.0       17.745763\n",
       "Western Europe                  0.0       25.983051\n",
       "                                1.0       29.380805"
      ]
     },
     "execution_count": 53,
     "metadata": {},
     "output_type": "execute_result"
    }
   ],
   "source": [
    "df3.groupby(['Region', 'Discount']).mean()"
   ]
  },
  {
   "cell_type": "code",
   "execution_count": 54,
   "metadata": {},
   "outputs": [
    {
     "data": {
      "image/png": "[encoded data removed]",
      "text/plain": [
       "<Figure size 720x576 with 1 Axes>"
      ]
     },
     "metadata": {
      "needs_background": "light"
     },
     "output_type": "display_data"
    }
   ],
   "source": [
    "plt.figure(figsize=(10, 8))\n",
    "sns.barplot(x='Quantity', y='Region', hue='Discount', data=df3, ci=False);\n",
    "plt.xlabel('Quantity')\n",
    "plt.ylabel('')\n",
    "plt.title('Average Quantity Ordered in Different Regions')\n",
    "plt.show();"
   ]
  },
  {
   "cell_type": "code",
   "execution_count": 55,
   "metadata": {},
   "outputs": [
    {
     "data": {
      "image/png": "[encoded data removed]",
      "text/plain": [
       "<Figure size 720x576 with 1 Axes>"
      ]
     },
     "metadata": {
      "needs_background": "light"
     },
     "output_type": "display_data"
    }
   ],
   "source": [
    "plt.figure(figsize=(10, 8))\n",
    "sns.barplot(x='Quantity', y='Region', hue='Discount', data=disc_levels, ci=False);\n",
    "plt.xlabel('Quantity')\n",
    "plt.ylabel('')\n",
    "plt.title('Average Quantity Ordered at Each Discount Level')\n",
    "plt.show();"
   ]
  },
  {
   "cell_type": "code",
   "execution_count": 56,
   "metadata": {},
   "outputs": [
    {
     "name": "stdout",
     "output_type": "stream",
     "text": [
      "                    sum_sq      df          F        PR(>F)\n",
      "C(Discount)   10680.576356     1.0  30.820885  3.193212e-08\n",
      "C(Region)     30683.232170     5.0  17.708489  3.210562e-17\n",
      "Residual     717678.089427  2071.0        NaN           NaN\n"
     ]
    }
   ],
   "source": [
    "## running ANOVA to see how discount and region affect quantity\n",
    "\n",
    "formula = 'Quantity ~ C(Discount) + C(Region)'\n",
    "lm = ols(formula, df3).fit()\n",
    "table = sm.stats.anova_lm(lm, typ=2)\n",
    "print(table)"
   ]
  },
  {
   "cell_type": "markdown",
   "metadata": {},
   "source": [
    "Both discount and region are statistically significant, we will now run seperate tests for each region to see the effect discount has on each region"
   ]
  },
  {
   "cell_type": "code",
   "execution_count": 57,
   "metadata": {},
   "outputs": [],
   "source": [
    "bi = df3[df3['Region'] == 'British Isles']\n",
    "csa = df3[df3['Region'] == 'Central and South America']\n",
    "na = df3[df3['Region'] == 'North America']\n",
    "nes = df3[df3['Region'] == 'Northern Europe and Scandinavia']\n",
    "see = df3[df3['Region'] == 'Southern and Eastern Europe']\n",
    "we = df3[df3['Region'] == 'Western Europe']"
   ]
  },
  {
   "cell_type": "code",
   "execution_count": 58,
   "metadata": {},
   "outputs": [
    {
     "name": "stdout",
     "output_type": "stream",
     "text": [
      "['British Isles']\n",
      "p value: 0.00013426015818520328\n",
      "Cohen D: 0.6972065772376479\n",
      "Power: 0.9938580810129829\n",
      "\n",
      "['Central and South America']\n",
      "p value: 0.7219220026514019\n",
      "Cohen D: 0.04067711257310275\n",
      "Power: 0.06499782251411285\n",
      "\n",
      "['North America']\n",
      "p value: 0.0013160495554853018\n",
      "Cohen D: 0.3278224037349616\n",
      "Power: 0.9127793857725006\n",
      "\n",
      "['Northern Europe and Scandinavia']\n",
      "p value: 0.03288356738724465\n",
      "Cohen D: 0.3198518000230372\n",
      "Power: 0.5969841955230749\n",
      "\n",
      "['Southern and Eastern Europe']\n",
      "p value: 0.009916121031375204\n",
      "Cohen D: 0.4389027276271459\n",
      "Power: 0.7471946095877677\n",
      "\n",
      "['Western Europe']\n",
      "p value: 0.03194664836876852\n",
      "Cohen D: 0.16241207539224592\n",
      "Power: 0.5885239765183115\n",
      "\n"
     ]
    }
   ],
   "source": [
    "## calculating p, effect size, and power for Welch's t-test for each region\n",
    "\n",
    "for region in [bi, csa, na, nes, see, we]:\n",
    "    print(region['Region'].unique())\n",
    "    t, p = stats.ttest_ind(region[region['Discount'] == 0].Quantity, region[region['Discount'] == 1].Quantity, equal_var=False)\n",
    "    print('p value: {}'.format(p))\n",
    "    \n",
    "    cohen_d = Cohen_d(region[region['Discount'] == 1].Quantity, region[region['Discount'] == 0].Quantity)\n",
    "    print('Cohen D: {}'.format(cohen_d))\n",
    "    \n",
    "    power = power_analysis.solve_power(effect_size=cohen_d, nobs1=len(region[region['Discount'] == 1]), ratio = len(region[region['Discount'] == 0])/len(region[region['Discount'] == 1]), alpha=.05)\n",
    "    print('Power: {}\\n'.format(power))\n"
   ]
  },
  {
   "cell_type": "markdown",
   "metadata": {},
   "source": [
    "We can reject our null hypothesis that all regions order the same amount of discounted and non discounted products.\n",
    "\n",
    "Central and South American countries do not see a difference in quantity between discounted and non discounted products.\n",
    "\n",
    "British Isles, North America, and Southern and Eastern Europe see the greatest difference in quantity between discounted and non discounted products. Discounted products have the greatest effect on quantity in the British Isles with an effect size of 0.7. \n",
    "\n",
    "Although Western Europe and Northern Europe and Scandinavia have a p value less than 0.05, the power of their tests is low so we cannot be confident that there is a significant effect on quantity between discounted and non discounted products."
   ]
  }
 ],
 "metadata": {
  "kernelspec": {
   "display_name": "Python 3",
   "language": "python",
   "name": "python3"
  },
  "language_info": {
   "codemirror_mode": {
    "name": "ipython",
    "version": 3
   },
   "file_extension": ".py",
   "mimetype": "text/x-python",
   "name": "python",
   "nbconvert_exporter": "python",
   "pygments_lexer": "ipython3",
   "version": "3.6.6"
  }
 },
 "nbformat": 4,
 "nbformat_minor": 2
}
